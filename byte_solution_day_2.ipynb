{
 "cells": [
  {
   "cell_type": "code",
   "execution_count": 1,
   "metadata": {},
   "outputs": [
    {
     "name": "stdout",
     "output_type": "stream",
     "text": [
      "enter the radius:9\n",
      "The area of circle 254.34\n",
      "The volume of sphere 9156.24\n"
     ]
    }
   ],
   "source": [
    "r = float(input(\"enter the radius:\"))\n",
    "area_circle = 3.14*(r**2)\n",
    "vol_sphere = 4*3.14*(r**3)\n",
    "print(\"The area of circle\",area_circle)\n",
    "print(\"The volume of sphere\",vol_sphere)"
   ]
  },
  {
   "cell_type": "code",
   "execution_count": 3,
   "metadata": {},
   "outputs": [
    {
     "name": "stdout",
     "output_type": "stream",
     "text": [
      "Enter the radius:8\n",
      "Enter the height:5\n",
      "The volume of cylinder 1005\n"
     ]
    }
   ],
   "source": [
    "r = float(input(\"Enter the radius:\"))\n",
    "h = float(input(\"Enter the height:\"))\n",
    "volume = 3.14*(r**2)*h\n",
    "print(\"The volume of cylinder\",(round(volume)))"
   ]
  },
  {
   "cell_type": "code",
   "execution_count": 4,
   "metadata": {},
   "outputs": [
    {
     "name": "stdout",
     "output_type": "stream",
     "text": [
      "Enter the length of base:6\n",
      "Enter the height of triangle:4\n",
      "The area of a triangle 12.0\n"
     ]
    }
   ],
   "source": [
    "b = float(input(\"Enter the length of base:\"))\n",
    "h = float(input(\"Enter the height of triangle:\"))\n",
    "area = (b*h)/2\n",
    "print(\"The area of a triangle\",area)"
   ]
  },
  {
   "cell_type": "code",
   "execution_count": null,
   "metadata": {},
   "outputs": [],
   "source": []
  }
 ],
 "metadata": {
  "kernelspec": {
   "display_name": "Python 3",
   "language": "python",
   "name": "python3"
  },
  "language_info": {
   "codemirror_mode": {
    "name": "ipython",
    "version": 3
   },
   "file_extension": ".py",
   "mimetype": "text/x-python",
   "name": "python",
   "nbconvert_exporter": "python",
   "pygments_lexer": "ipython3",
   "version": "3.7.1"
  }
 },
 "nbformat": 4,
 "nbformat_minor": 2
}
