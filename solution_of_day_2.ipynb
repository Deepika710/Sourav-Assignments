{
 "cells": [
  {
   "cell_type": "code",
   "execution_count": 2,
   "metadata": {},
   "outputs": [
    {
     "name": "stdout",
     "output_type": "stream",
     "text": [
      "enter the first number:8\n",
      "enter the second number:9\n",
      "the additon of numbers: 17\n",
      "the division of numbers: 0.8888888888888888\n"
     ]
    }
   ],
   "source": [
    "a = int(input(\"enter the first number:\"))\n",
    "b = int(input(\"enter the second number:\"))\n",
    "c = a+b\n",
    "d = a/b\n",
    "print(\"the additon of numbers:\",c)\n",
    "print(\"the division of numbers:\",d)"
   ]
  },
  {
   "cell_type": "code",
   "execution_count": 3,
   "metadata": {},
   "outputs": [
    {
     "name": "stdout",
     "output_type": "stream",
     "text": [
      "Enter the first number:5\n",
      "enter the second number3\n",
      "the addition is 8\n",
      "the subtraction: -2\n",
      "the product: 15\n",
      "the quotient: 1.6666666666666667\n",
      "the remainder: 2\n"
     ]
    }
   ],
   "source": [
    "a = int(input(\"Enter the first number:\"))\n",
    "b = int(input(\"enter the second number\"))\n",
    "addi= a+b\n",
    "sub = b-a\n",
    "pro = a*b\n",
    "div = a/b\n",
    "mod = a%b\n",
    "print(\"the addition is\",addi)\n",
    "print(\"the subtraction:\",sub)\n",
    "print(\"the product:\",pro)\n",
    "print(\"the quotient:\",div)\n",
    "print(\"the remainder:\",mod)"
   ]
  },
  {
   "cell_type": "code",
   "execution_count": 5,
   "metadata": {},
   "outputs": [
    {
     "name": "stdout",
     "output_type": "stream",
     "text": [
      "Enter the radius:8\n",
      "200.96\n"
     ]
    }
   ],
   "source": [
    "a = float(input(\"Enter the radius:\"))\n",
    "area = 3.14*(a**2)\n",
    "print(area)"
   ]
  },
  {
   "cell_type": "code",
   "execution_count": 6,
   "metadata": {},
   "outputs": [
    {
     "name": "stdout",
     "output_type": "stream",
     "text": [
      "Enter your namesourav\n",
      "hey sourav\n"
     ]
    }
   ],
   "source": [
    "a = (input(\"Enter your name\"))\n",
    "print(\"hey\",a)"
   ]
  },
  {
   "cell_type": "code",
   "execution_count": 1,
   "metadata": {},
   "outputs": [
    {
     "name": "stdout",
     "output_type": "stream",
     "text": [
      "Enter the length of the field in ft 45.85\n",
      "Enter the width in ft 8.65\n",
      "the area of the field in acre 910.2027375\n"
     ]
    }
   ],
   "source": [
    "l = float(input(\"Enter the length of the field in ft \"))\n",
    "b = float(input(\"Enter the width in ft \"))\n",
    "area = 2.295*(l*b)\n",
    "print(\"the area of the field in acre\",area)"
   ]
  },
  {
   "cell_type": "code",
   "execution_count": 7,
   "metadata": {},
   "outputs": [
    {
     "name": "stdout",
     "output_type": "stream",
     "text": [
      "Enter the no. 5\n",
      "15.0\n"
     ]
    }
   ],
   "source": [
    "n = int(input(\"Enter the no. \"))\n",
    "sum = (n*(n + 1))/2\n",
    "print(sum)"
   ]
  },
  {
   "cell_type": "code",
   "execution_count": null,
   "metadata": {},
   "outputs": [],
   "source": []
  }
 ],
 "metadata": {
  "kernelspec": {
   "display_name": "Python 3",
   "language": "python",
   "name": "python3"
  },
  "language_info": {
   "codemirror_mode": {
    "name": "ipython",
    "version": 3
   },
   "file_extension": ".py",
   "mimetype": "text/x-python",
   "name": "python",
   "nbconvert_exporter": "python",
   "pygments_lexer": "ipython3",
   "version": "3.7.1"
  }
 },
 "nbformat": 4,
 "nbformat_minor": 2
}
