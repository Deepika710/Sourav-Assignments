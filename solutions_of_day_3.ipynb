{
 "cells": [
  {
   "cell_type": "code",
   "execution_count": 7,
   "metadata": {},
   "outputs": [
    {
     "name": "stdout",
     "output_type": "stream",
     "text": [
      "Enter the longitude and latitude of two points of earth:\n",
      "Enter the longitude 1: 52\n",
      "Enter the longitude 2: 56\n",
      "Enter the latitude 1: 47\n",
      "Enter the latitude 2: 15\n",
      "Distance is 2117.9362188429277 km\n"
     ]
    }
   ],
   "source": [
    "from math import radians, cos, sin, asin, sqrt\n",
    "print(\"Enter the longitude and latitude of two points of earth:\")\n",
    "t1 = float(input(\"Enter the longitude 1: \"))\n",
    "t2 = float(input(\"Enter the longitude 2: \"))\n",
    "g1 = float(input(\"Enter the latitude 1: \"))\n",
    "g2 = float(input(\"Enter the latitude 2: \"))\n",
    "\n",
    "t1 = radians(t1)\n",
    "t2 = radians(t2)\n",
    "g1 = radians(g1)\n",
    "g2 = radians(g2)\n",
    "\n",
    "dt = t2-t1\n",
    "dg = g2-g1\n",
    "c = sin(dt/2)**2 + cos(t1) * cos(t2) * sin(dg/2)**2\n",
    "a = 2 * asin(sqrt(c)) \n",
    "r = 6371.01\n",
    "distance = a*r\n",
    "print(\"Distance is\",distance,\"km\")"
   ]
  },
  {
   "cell_type": "code",
   "execution_count": 5,
   "metadata": {},
   "outputs": [
    {
     "name": "stdout",
     "output_type": "stream",
     "text": [
      "Enter the hieght in feet: 5\n",
      "Enter the hieght in inches: 0.11\n",
      "The hieght in cm 152.68 cm\n"
     ]
    }
   ],
   "source": [
    "ft = float(input(\"Enter the hieght in feet: \"))\n",
    "inch = float(input(\"Enter the hieght in inches: \"))\n",
    "\n",
    "inch1 = ft*12\n",
    "cm1 = inch*2.54+inch1*2.54\n",
    "\n",
    "print(\"The hieght in cm\",(round(cm1,2)),\"cm\")\n"
   ]
  },
  {
   "cell_type": "code",
   "execution_count": 6,
   "metadata": {},
   "outputs": [
    {
     "name": "stdout",
     "output_type": "stream",
     "text": [
      "Enter the distance in feet: 500\n",
      "The distnace in inches: 6000.0 inch\n",
      "The distance in yard: 1.65 yard\n",
      "The distance in miles: 0.0009000000000000001 miles\n"
     ]
    }
   ],
   "source": [
    "feet = float(input(\"Enter the distance in feet: \"))\n",
    "\n",
    "yard = 0.33*feet/100\n",
    "inches = feet*12\n",
    "miles = 0.00018*feet/100\n",
    "\n",
    "print(\"The distnace in inches:\",inches,\"inch\")\n",
    "print(\"The distance in yard:\",yard,\"yard\")\n",
    "print(\"The distance in miles:\",miles,\"miles\")"
   ]
  },
  {
   "cell_type": "code",
   "execution_count": 10,
   "metadata": {},
   "outputs": [
    {
     "name": "stdout",
     "output_type": "stream",
     "text": [
      "Enter the temperature in kelvin: 54\n",
      "The temperature in farhenite: 383.15 farhenite\n"
     ]
    }
   ],
   "source": [
    "tempk = float(input(\"Enter the temperature in kelvin: \"))\n",
    "tempk1 = tempk-32\n",
    "tempk2 = tempk1*5+273.15\n",
    "print(\"The temperature in farhenite:\",tempk2,\"farhenite\")\n"
   ]
  },
  {
   "cell_type": "code",
   "execution_count": 11,
   "metadata": {},
   "outputs": [
    {
     "name": "stdout",
     "output_type": "stream",
     "text": [
      "Enter the base length of the triangle: 14\n",
      "Enter the height of the triangle: 5\n",
      "The area of traingle: 35.0\n"
     ]
    }
   ],
   "source": [
    "base = float(input(\"Enter the base length of the triangle: \"))\n",
    "height = float(input(\"Enter the height of the triangle: \"))\n",
    "area = (base*height)/2\n",
    "print(\"The area of traingle:\",area)"
   ]
  },
  {
   "cell_type": "code",
   "execution_count": 12,
   "metadata": {},
   "outputs": [
    {
     "name": "stdout",
     "output_type": "stream",
     "text": [
      "enter the radius:5\n",
      "The area of circle 78.5\n",
      "The volume of sphere 1570.0\n"
     ]
    }
   ],
   "source": [
    "r = float(input(\"enter the radius:\"))\n",
    "area_circle = 3.14*(r**2)\n",
    "vol_sphere = 4*3.14*(r**3)\n",
    "print(\"The area of circle\",area_circle)\n",
    "print(\"The volume of sphere\",vol_sphere)"
   ]
  },
  {
   "cell_type": "code",
   "execution_count": 13,
   "metadata": {},
   "outputs": [
    {
     "name": "stdout",
     "output_type": "stream",
     "text": [
      "Enter the radius:5\n",
      "Enter the height:8\n",
      "The volume of cylinder 628\n"
     ]
    }
   ],
   "source": [
    "r = float(input(\"Enter the radius:\"))\n",
    "h = float(input(\"Enter the height:\"))\n",
    "volume = 3.14*(r**2)*h\n",
    "print(\"The volume of cylinder\",(round(volume)))"
   ]
  },
  {
   "cell_type": "code",
   "execution_count": null,
   "metadata": {},
   "outputs": [],
   "source": []
  }
 ],
 "metadata": {
  "kernelspec": {
   "display_name": "Python 3",
   "language": "python",
   "name": "python3"
  },
  "language_info": {
   "codemirror_mode": {
    "name": "ipython",
    "version": 3
   },
   "file_extension": ".py",
   "mimetype": "text/x-python",
   "name": "python",
   "nbconvert_exporter": "python",
   "pygments_lexer": "ipython3",
   "version": "3.7.1"
  }
 },
 "nbformat": 4,
 "nbformat_minor": 2
}
