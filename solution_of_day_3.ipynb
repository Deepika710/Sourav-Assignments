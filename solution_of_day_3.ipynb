{
 "cells": [
  {
   "cell_type": "code",
   "execution_count": null,
   "metadata": {},
   "outputs": [],
   "source": [
    "him=\"dog\"\n",
    "list1=[0.2,5,him,9,58.3,1]\n",
    "print(list1[5])\n",
    "print(list1[2:6])\n",
    "print(\"The length of list1: \",len(list1))\n",
    "print(\"The membership of str in list1: \", str in list1)\n",
    "print(list1*2)\n",
    "list2=[8.5,5,700,\"area\",9.558,1]\n",
    "print(list1+list2)\n"
   ]
  },
  {
   "cell_type": "code",
   "execution_count": null,
   "metadata": {},
   "outputs": [],
   "source": [
    "list1=[5,8,12,95,False,45,1]\n",
    "list1.append(True)\n",
    "list1.insert(3,\"79\")\n",
    "print(list1)\n",
    "print(list1.pop(3))\n",
    "print(list1)\n",
    "list1.sort()\n",
    "print(list1)\n",
    "list1.reverse()\n",
    "print(list1)\n",
    "print(list1.count(12))\n",
    "print(list1.index(8))\n",
    "print(list1)\n",
    "print(list1.remove(45))\n",
    "print(list1)\n",
    "del(list1[2])\n",
    "print(list1)\n"
   ]
  },
  {
   "cell_type": "code",
   "execution_count": null,
   "metadata": {},
   "outputs": [],
   "source": [
    "mystring=\"sourav\"\n",
    "print(len(mystring))\n",
    "print(mystring.center(10))\n",
    "replacingmystring=mystring.replace(\"v\",\"b\")\n",
    "print(replacingmystring)"
   ]
  },
  {
   "cell_type": "code",
   "execution_count": null,
   "metadata": {},
   "outputs": [],
   "source": [
    "list_of_mystrings=\"Hello, to my world\"\n",
    "print(list_of_mystrings.split())\n",
    "print(list_of_mystrings.split(\"o\"))"
   ]
  },
  {
   "cell_type": "code",
   "execution_count": null,
   "metadata": {},
   "outputs": [],
   "source": [
    "t1=(5,8,\"qrt\",2.5,9)\n",
    "t2=(65,9.5,72,\"yot\",1)\n",
    "print(t1+t2)\n",
    "print(t1*2)\n",
    "print(t2*3)\n",
    "print(len(t1))\n",
    "print(len(t2))\n",
    "print(\"The membership function of 8 in t1\", 8 in t1)\n",
    "print(t1[2])\n",
    "print(t2[1])\n",
    "print(t1[1:4])\n",
    "t1.append(2.5)"
   ]
  },
  {
   "cell_type": "code",
   "execution_count": null,
   "metadata": {},
   "outputs": [],
   "source": [
    "my_set={8,7,10}\n",
    "print(type(my_set))\n",
    "my_set1={5,9,8,\"abc\",1}\n",
    "print(my_set1)\n",
    "print('abc' in my_set1)\n",
    "print(my_set | my_set1)\n",
    "print(my_set & my_set1)"
   ]
  },
  {
   "cell_type": "code",
   "execution_count": null,
   "metadata": {},
   "outputs": [],
   "source": [
    "my_dic = {\"p\":5,\"d\":43,\"e\":69,}\n",
    "print(my_dic[\"e\"])\n",
    "my_dic[\"p\"] = 15\n",
    "print(my_dic)\n",
    "print(my_dic.keys())\n",
    "print(my_dic.values())\n",
    "print(my_dic.items())"
   ]
  },
  {
   "cell_type": "code",
   "execution_count": null,
   "metadata": {},
   "outputs": [],
   "source": [
    "int1 = 5\n",
    "int2 = 10\n",
    "\n",
    "print('Old value of int1 is {0} and int2 is {1}'.format(int1, int2))\n",
    "\n",
    "int1 = int1 + int2\n",
    "int2 = int1 - int2\n",
    "int1 = int1 - int2\n",
    "\n",
    "print('New value of int1 is {0} and int2 is {1}'.format(int1, int2))"
   ]
  },
  {
   "cell_type": "code",
   "execution_count": null,
   "metadata": {},
   "outputs": [],
   "source": [
    "\n",
    "list1 = [1,8,5,6,9]\n",
    "avg = sum(list1)/float(len(list1))\n",
    "print(avg)"
   ]
  },
  {
   "cell_type": "code",
   "execution_count": null,
   "metadata": {},
   "outputs": [],
   "source": [
    "int1 = 20\n",
    "int2 = 50\n",
    "print(\"old value of int1 is {0} and int2 is {1}\")\n",
    "\n"
   ]
  },
  {
   "cell_type": "code",
   "execution_count": null,
   "metadata": {},
   "outputs": [],
   "source": [
    "num = int(input(\"Enter the no: \"))\n",
    "sd = num+(num*num)+(num*num*num)\n",
    "print(sd)\n"
   ]
  },
  {
   "cell_type": "code",
   "execution_count": 3,
   "metadata": {},
   "outputs": [
    {
     "name": "stdout",
     "output_type": "stream",
     "text": [
      "Enter the no. 456\n",
      "[456]\n"
     ]
    }
   ],
   "source": [
    "num1 = int(input(\"Enter the no. \"))\n",
    "list = [num1]\n",
    "list.reverse()\n",
    "print(list)"
   ]
  },
  {
   "cell_type": "code",
   "execution_count": null,
   "metadata": {},
   "outputs": [],
   "source": [
    "num1 = float(input(\"Enter the first no: \"))\n",
    "num2 = float(input(\"Enter the second no: \"))\n",
    "quo = num1/num2\n",
    "rem = num1%num2\n",
    "print(quo)\n",
    "print(rem)"
   ]
  },
  {
   "cell_type": "code",
   "execution_count": 5,
   "metadata": {},
   "outputs": [
    {
     "name": "stdout",
     "output_type": "stream",
     "text": [
      "Enter the no. -5\n",
      "The no. is negative\n"
     ]
    }
   ],
   "source": [
    "num = float(input(\"Enter the no. \"))\n",
    "if (num>0):\n",
    "    print(\"The no. is positive\")\n",
    "else :\n",
    "    print(\"The no. is negative\")"
   ]
  },
  {
   "cell_type": "code",
   "execution_count": null,
   "metadata": {},
   "outputs": [],
   "source": []
  }
 ],
 "metadata": {
  "kernelspec": {
   "display_name": "Python 3",
   "language": "python",
   "name": "python3"
  },
  "language_info": {
   "codemirror_mode": {
    "name": "ipython",
    "version": 3
   },
   "file_extension": ".py",
   "mimetype": "text/x-python",
   "name": "python",
   "nbconvert_exporter": "python",
   "pygments_lexer": "ipython3",
   "version": "3.7.1"
  }
 },
 "nbformat": 4,
 "nbformat_minor": 2
}
