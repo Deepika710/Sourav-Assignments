{
 "cells": [
  {
   "cell_type": "code",
   "execution_count": 3,
   "metadata": {},
   "outputs": [
    {
     "name": "stdout",
     "output_type": "stream",
     "text": [
      "I'm sourav lives at karomangala\n"
     ]
    }
   ],
   "source": [
    "x, y = 'sourav', 'karomangala'\n",
    "print(\"I'm %s lives at %s\" %(x,y))"
   ]
  },
  {
   "cell_type": "code",
   "execution_count": 14,
   "metadata": {},
   "outputs": [
    {
     "name": "stdout",
     "output_type": "stream",
     "text": [
      "Enter the no. 1\n",
      "123\n"
     ]
    }
   ],
   "source": [
    "num = int(input(\"Enter the no. \"))\n",
    "first_num = int(\"%s\" %(num))\n",
    "second_num = int(\"%s%s\" %(num,num))\n",
    "third_num = int(\"%s%s%s\" %(num,num,num))\n",
    "opt1 = (first_num+second_num+third_num)\n",
    "print(opt1)"
   ]
  },
  {
   "cell_type": "code",
   "execution_count": 5,
   "metadata": {},
   "outputs": [
    {
     "name": "stdout",
     "output_type": "stream",
     "text": [
      "The first choice: 65, The second choice: 5, The third choice: 2.5\n"
     ]
    }
   ],
   "source": [
    "print('The first choice: {a}, The second choice: {b}, The third choice: {c}' .format(a=65,b=5,c=2.5))"
   ]
  },
  {
   "cell_type": "code",
   "execution_count": 10,
   "metadata": {},
   "outputs": [
    {
     "name": "stdout",
     "output_type": "stream",
     "text": [
      "The institute name is Byte Academy.\n"
     ]
    }
   ],
   "source": [
    "name = 'Byte Academy' \n",
    "print(f\"The institute name is {name}.\")"
   ]
  },
  {
   "cell_type": "code",
   "execution_count": 8,
   "metadata": {},
   "outputs": [
    {
     "name": "stdout",
     "output_type": "stream",
     "text": [
      "Enter the first no. 2\n",
      "Enter the second no. 5\n",
      "The second no. is gretaer\n"
     ]
    }
   ],
   "source": [
    "num1 = int(input(\"Enter the first no. \"))\n",
    "num2 = int(input(\"Enter the second no. \"))\n",
    "\n",
    "if (num1>num2):\n",
    "    print(\"The first no. is greater\")\n",
    "elif (num1<num2):\n",
    "    print(\"The second no. is greater\")\n",
    "else:\n",
    "    print(\"The number is equal\")"
   ]
  },
  {
   "cell_type": "code",
   "execution_count": 13,
   "metadata": {},
   "outputs": [
    {
     "name": "stdout",
     "output_type": "stream",
     "text": [
      "Enter the no. 5\n",
      "the no. is odd\n"
     ]
    }
   ],
   "source": [
    "num = int(input(\"Enter the no. \"))\n",
    "\n",
    "if (num%2==0):\n",
    "    print(\"the no. prime number \")\n",
    "else:\n",
    "    print(\"the no. is odd\")"
   ]
  },
  {
   "cell_type": "code",
   "execution_count": 6,
   "metadata": {},
   "outputs": [
    {
     "name": "stdout",
     "output_type": "stream",
     "text": [
      "Enter the alphabet: d\n",
      "The alphabet is constant\n"
     ]
    }
   ],
   "source": [
    "l= input(\"Enter the alphabet: \")\n",
    "list1 = [\"a\",\"e\",\"i\",\"o\",\"u\"]\n",
    "\n",
    "if (l in list1):\n",
    "    print(\"The alphabet is vowel\")\n",
    "elif (l=='y'):\n",
    "    print(\"The alphabet is sometime vowel, sometime constant\")\n",
    "else:\n",
    "    print(\"The alphabet is constant\")"
   ]
  },
  {
   "cell_type": "code",
   "execution_count": 19,
   "metadata": {},
   "outputs": [
    {
     "name": "stdout",
     "output_type": "stream",
     "text": [
      "Enter the human year: -5\n",
      "Error\n"
     ]
    }
   ],
   "source": [
    "y = float(input(\"Enter the human year: \"))\n",
    "if (y>2):\n",
    "    print(10.5+(y-2)*4)\n",
    "elif (y<=2 and y>0):\n",
    "    print(10.5)\n",
    "else:\n",
    "    print(\"Error\")"
   ]
  },
  {
   "cell_type": "code",
   "execution_count": 33,
   "metadata": {},
   "outputs": [
    {
     "name": "stdout",
     "output_type": "stream",
     "text": [
      "Enter the no. of sides: 45\n",
      "error\n"
     ]
    }
   ],
   "source": [
    "side = int(input(\"Enter the no. of sides: \"))\n",
    "if (side==3):\n",
    "    print(\"Triangle\")\n",
    "elif (side==4):\n",
    "    print(\"Rectangle\")\n",
    "elif (side==5):\n",
    "    print(\"Pentagon\")\n",
    "elif (side==6):\n",
    "    print(\"Hexagon\")\n",
    "elif (side==7):\n",
    "    print(\"Heptagon\")\n",
    "elif (side==8):\n",
    "    print(\"Octagon\")\n",
    "elif (side==9):\n",
    "    print(\"Nonagon\")\n",
    "elif (side==10):\n",
    "    print(\"Decagon\")\n",
    "else:\n",
    "    print(\"error\")"
   ]
  },
  {
   "cell_type": "code",
   "execution_count": 37,
   "metadata": {},
   "outputs": [
    {
     "name": "stdout",
     "output_type": "stream",
     "text": [
      "Enter the month: feb\n",
      "Feb is considered as leap year\n"
     ]
    }
   ],
   "source": [
    "m = input(\"Enter the month: \")\n",
    "list1 = [\"jan\",\"march\",\"may\",\"july\",\"aug\",\"oct\",\"dec\"]\n",
    "list2 = [\"april\",\"june\",\"sept\",\"nov\"]\n",
    "if (m in list1):\n",
    "    print(\"it have 31 days\")\n",
    "elif (m in list2):\n",
    "    print(\"it have 30 days\")\n",
    "else:\n",
    "    print(\"Feb is considered as leap year\")"
   ]
  },
  {
   "cell_type": "code",
   "execution_count": null,
   "metadata": {},
   "outputs": [],
   "source": []
  }
 ],
 "metadata": {
  "kernelspec": {
   "display_name": "Python 3",
   "language": "python",
   "name": "python3"
  },
  "language_info": {
   "codemirror_mode": {
    "name": "ipython",
    "version": 3
   },
   "file_extension": ".py",
   "mimetype": "text/x-python",
   "name": "python",
   "nbconvert_exporter": "python",
   "pygments_lexer": "ipython3",
   "version": "3.7.1"
  }
 },
 "nbformat": 4,
 "nbformat_minor": 2
}
