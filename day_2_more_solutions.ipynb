{
 "cells": [
  {
   "cell_type": "code",
   "execution_count": 1,
   "metadata": {},
   "outputs": [
    {
     "name": "stdout",
     "output_type": "stream",
     "text": [
      "Enter the cost of the meal:225\n",
      "Meal= 225.0\n",
      "Gst= 40.5\n",
      "Tip= 40.5\n",
      "Grand Total= 306.0\n"
     ]
    }
   ],
   "source": [
    "cost_meal = float(input(\"Enter the cost of the meal:\"))\n",
    "tip = 18*cost_meal/100\n",
    "gst = 18*cost_meal/100\n",
    "grand_total = tip+gst+cost_meal\n",
    "print(\"Meal=\",(round(cost_meal,2)))\n",
    "print(\"Gst=\",(round(gst,2)))\n",
    "print(\"Tip=\",(round(tip,2)))\n",
    "print(\"Grand Total=\",(round(grand_total,2)))"
   ]
  },
  {
   "cell_type": "code",
   "execution_count": 2,
   "metadata": {},
   "outputs": [
    {
     "name": "stdout",
     "output_type": "stream",
     "text": [
      "Enter the number of widgets bought:5\n",
      "Entyer the number of gizmos bought:8\n",
      "Total weight of toys bought 1271.0 g\n"
     ]
    }
   ],
   "source": [
    "widgets_no = float(input(\"Enter the number of widgets bought:\"))\n",
    "gizmos_no = float(input(\"Entyer the number of gizmos bought:\"))\n",
    "widgets_weight = 75*widgets_no\n",
    "gizmos_weight = 112*gizmos_no\n",
    "total_weight = widgets_weight+gizmos_weight\n",
    "print(\"Total weight of toys bought\",total_weight,\"g\")"
   ]
  },
  {
   "cell_type": "code",
   "execution_count": 5,
   "metadata": {},
   "outputs": [
    {
     "name": "stdout",
     "output_type": "stream",
     "text": [
      "Enter the amount deposited:800\n",
      "The amount after one year 832.0\n",
      "The amount after second year 865.28\n",
      "The amount after third year 899.89\n"
     ]
    }
   ],
   "source": [
    "amt = float(input(\"Enter the amount deposited:\"))\n",
    "one_year = 4*(amt/100)+amt\n",
    "second_year = 4*(one_year/100)+one_year\n",
    "third_year = 4*(second_year/100)+second_year\n",
    "print(\"The amount after one year\",(round(one_year,2)))\n",
    "print(\"The amount after second year\",(round(second_year,2)))\n",
    "print(\"The amount after third year\",(round(third_year,2)))"
   ]
  },
  {
   "cell_type": "code",
   "execution_count": 7,
   "metadata": {},
   "outputs": [
    {
     "name": "stdout",
     "output_type": "stream",
     "text": [
      "Enter the mpg:100\n",
      "The fuel in canadian unit 2.3521\n"
     ]
    }
   ],
   "source": [
    "mpg = float(input(\"Enter the mpg:\"))\n",
    "canada_unit = 235.21/mpg\n",
    "print(\"The fuel in canadian unit\",canada_unit)"
   ]
  },
  {
   "cell_type": "code",
   "execution_count": 8,
   "metadata": {},
   "outputs": [
    {
     "name": "stdout",
     "output_type": "stream",
     "text": [
      "Enter the no. of drink bought less than 1l:5\n",
      "Enter the no. of drink bought more than 1l8\n",
      "Total Refund 2.5\n"
     ]
    }
   ],
   "source": [
    "litre_less = float(input(\"Enter the no. of drink bought less than 1l:\"))\n",
    "litre_more = float(input(\"Enter the no. of drink bought more than 1l\"))\n",
    "refund_litreless = litre_less*0.10\n",
    "refund_litremore = litre_more*0.25\n",
    "total_refund = refund_litreless+refund_litremore\n",
    "print(\"Total Refund\",(round(total_refund,2)))"
   ]
  },
  {
   "cell_type": "code",
   "execution_count": null,
   "metadata": {},
   "outputs": [],
   "source": []
  }
 ],
 "metadata": {
  "kernelspec": {
   "display_name": "Python 3",
   "language": "python",
   "name": "python3"
  },
  "language_info": {
   "codemirror_mode": {
    "name": "ipython",
    "version": 3
   },
   "file_extension": ".py",
   "mimetype": "text/x-python",
   "name": "python",
   "nbconvert_exporter": "python",
   "pygments_lexer": "ipython3",
   "version": "3.7.1"
  }
 },
 "nbformat": 4,
 "nbformat_minor": 2
}
